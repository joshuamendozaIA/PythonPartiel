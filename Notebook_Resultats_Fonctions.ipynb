{
 "cells": [
  {
   "cell_type": "code",
   "execution_count": 1,
   "metadata": {},
   "outputs": [],
   "source": [
    "# a) Fonction polynomiale\n",
    "\n",
    "def Polynome(x):\n",
    "    '''\n",
    "    Prend en entrée un argument x et calcule le résultat du polynome x^3-1.5x^2-6x+5\n",
    "\n",
    "    Paramètre:\n",
    "            x : un nombre\n",
    "\n",
    "    Sortie:\n",
    "            le résultat de la fonction f(x)=x^3-1.5x^2-6x+5\n",
    "    '''\n",
    "    return  x**3 - 1.5*x**2 - 6*x + 5"
   ]
  },
  {
   "cell_type": "code",
   "execution_count": 2,
   "metadata": {},
   "outputs": [
    {
     "data": {
      "text/plain": [
       "62.5"
      ]
     },
     "execution_count": 2,
     "metadata": {},
     "output_type": "execute_result"
    }
   ],
   "source": [
    "Polynome(5)"
   ]
  },
  {
   "cell_type": "code",
   "execution_count": 3,
   "metadata": {},
   "outputs": [],
   "source": [
    "# b) Fonction factorielle\n",
    "\n",
    "def factorielle(n: int):\n",
    "    '''\n",
    "    Prend en entrée un argument n et calcule la factorielle de n\n",
    "\n",
    "    Paramètre:\n",
    "            n : un entier naturel\n",
    "\n",
    "    Sortie:\n",
    "            res : la factorielle de n\n",
    "    '''\n",
    "    if n == 0:\n",
    "        return 1\n",
    "    else:\n",
    "        res = 1\n",
    "        for i in range(2, n+1):\n",
    "            res = res * i\n",
    "    return res"
   ]
  },
  {
   "cell_type": "code",
   "execution_count": 4,
   "metadata": {},
   "outputs": [
    {
     "data": {
      "text/plain": [
       "120"
      ]
     },
     "execution_count": 4,
     "metadata": {},
     "output_type": "execute_result"
    }
   ],
   "source": [
    "factorielle(5)"
   ]
  },
  {
   "cell_type": "code",
   "execution_count": 5,
   "metadata": {},
   "outputs": [],
   "source": [
    "# c) Fonction suite de Fibonacci\n",
    "\n",
    "def Fibonacci():\n",
    "    '''\n",
    "    Prend en entrée un argument n et affiche la suite de Fibonacci\n",
    "\n",
    "    Paramètre:\n",
    "            n : un entier\n",
    "\n",
    "    Sortie:\n",
    "            La suite de Fibonacci en fonction de n\n",
    "    '''\n",
    "    n = int(input(\"Entrez un nombre: \"))\n",
    "    n1 = 0 \n",
    "    n2 = 1\n",
    "    compteur = 0\n",
    "\n",
    "    if n <= 0:\n",
    "        print(\"Veuillez choisir un nombre entier supérieur à 0\")\n",
    "    elif n == 1:\n",
    "        print(\"Les deux premiers termes sont\", n1, \"et\", n)\n",
    "    else:\n",
    "        print(\"La suite Fibonacci est:\")\n",
    "        while compteur < n:\n",
    "            print(n1)\n",
    "            nth = n1 + n2\n",
    "            n1 = n2\n",
    "            n2 = nth\n",
    "            compteur = compteur + 1"
   ]
  },
  {
   "cell_type": "code",
   "execution_count": 6,
   "metadata": {},
   "outputs": [
    {
     "name": "stdout",
     "output_type": "stream",
     "text": [
      "Entrez un nombre: 6\n",
      "La suite Fibonacci est:\n",
      "0\n",
      "1\n",
      "1\n",
      "2\n",
      "3\n",
      "5\n"
     ]
    }
   ],
   "source": [
    "Fibonacci()"
   ]
  },
  {
   "cell_type": "code",
   "execution_count": 7,
   "metadata": {},
   "outputs": [],
   "source": [
    "# Création des classes pour gérer les exceptions demandées\n",
    "\n",
    "# Erreur pour la saisie d'une chaîne de caractères\n",
    "class StringArgument(Exception):\n",
    "    def __init__(self, m):\n",
    "        self.message = m\n",
    "    def __str__(self):\n",
    "        return self.message\n",
    "\n",
    "# Erreur pour la saisie d'un nombre complexe\n",
    "class ComplexArgument(Exception):\n",
    "    def __init__(self, m):\n",
    "        self.message = m\n",
    "    def __str__(self):\n",
    "        return self.message\n",
    "\n",
    "# Erreur pour la saisie d'un nombre négatif\n",
    "class NegativeArgument(Exception):\n",
    "    def __init__(self, m):\n",
    "        self.message = m\n",
    "    def __str__(self):\n",
    "        return self.message\n",
    "    \n",
    "# Erreur pour la saisie d'un nombre trop grand\n",
    "class BigArgument(Exception):\n",
    "    def __init__(self, m):\n",
    "        self.message = m\n",
    "    def __str__(self):\n",
    "        return self.message\n",
    "\n",
    "# Erreur pour la saisie d'un nombre trop petit\n",
    "class SmallArgument(Exception):\n",
    "    def __init__(self, m):\n",
    "        self.message = m\n",
    "    def __str__(self):\n",
    "        return self.message\n",
    "\n",
    "\n",
    "def Polynome(x):\n",
    "    \n",
    "    '''\n",
    "    Prend en entrée un argument x et calcule le résultat du polynome x^3-1.5x^2-6x+5\n",
    "    Si x est une chaîne de caractères ou un nombre complexe ou un nombre négatif ou\n",
    "    un nombre très grand ou un nombre très petit, un message d'erreur personnalisé s'affiche.\n",
    "\n",
    "            Paramètre:\n",
    "                    a : un nombre\n",
    "\n",
    "            Sortie:\n",
    "                    le résultat de la fonction f(x)=x^3-1.5x^2-6x+5\n",
    "    '''\n",
    "    \n",
    "    if type(x) == str:\n",
    "        raise StringArgument(\"Could not use string as argument\")\n",
    "        \n",
    "    elif type(x) == complex:\n",
    "        raise ComplexArgument(\"Could not use complex number as argument\")\n",
    "        \n",
    "    elif x < 0:\n",
    "        raise NegativeArgument(\"Could not use negative number as argument\")\n",
    "        \n",
    "    elif x > 1e10:\n",
    "        raise BigArgument(\"Could not use big number as argument\")\n",
    "        \n",
    "    elif x < 1e-10:\n",
    "        raise SmallArgument(\"Could not use small number as argument\")\n",
    "        \n",
    "    else:\n",
    "        return  x**3 - 1.5*x**2 - 6*x + 5"
   ]
  },
  {
   "cell_type": "code",
   "execution_count": 8,
   "metadata": {},
   "outputs": [
    {
     "data": {
      "text/plain": [
       "62.5"
      ]
     },
     "execution_count": 8,
     "metadata": {},
     "output_type": "execute_result"
    }
   ],
   "source": [
    "Polynome(5)"
   ]
  },
  {
   "cell_type": "code",
   "execution_count": 9,
   "metadata": {},
   "outputs": [
    {
     "ename": "StringArgument",
     "evalue": "Could not use string as argument",
     "output_type": "error",
     "traceback": [
      "\u001b[1;31m---------------------------------------------------------------------------\u001b[0m",
      "\u001b[1;31mStringArgument\u001b[0m                            Traceback (most recent call last)",
      "\u001b[1;32m<ipython-input-9-d1a272a214d5>\u001b[0m in \u001b[0;36m<module>\u001b[1;34m\u001b[0m\n\u001b[1;32m----> 1\u001b[1;33m \u001b[0mPolynome\u001b[0m\u001b[1;33m(\u001b[0m\u001b[1;34m\"a\"\u001b[0m\u001b[1;33m)\u001b[0m\u001b[1;33m\u001b[0m\u001b[1;33m\u001b[0m\u001b[0m\n\u001b[0m",
      "\u001b[1;32m<ipython-input-7-5221f6a055c1>\u001b[0m in \u001b[0;36mPolynome\u001b[1;34m(x)\u001b[0m\n\u001b[0;32m     52\u001b[0m \u001b[1;33m\u001b[0m\u001b[0m\n\u001b[0;32m     53\u001b[0m     \u001b[1;32mif\u001b[0m \u001b[0mtype\u001b[0m\u001b[1;33m(\u001b[0m\u001b[0mx\u001b[0m\u001b[1;33m)\u001b[0m \u001b[1;33m==\u001b[0m \u001b[0mstr\u001b[0m\u001b[1;33m:\u001b[0m\u001b[1;33m\u001b[0m\u001b[1;33m\u001b[0m\u001b[0m\n\u001b[1;32m---> 54\u001b[1;33m         \u001b[1;32mraise\u001b[0m \u001b[0mStringArgument\u001b[0m\u001b[1;33m(\u001b[0m\u001b[1;34m\"Could not use string as argument\"\u001b[0m\u001b[1;33m)\u001b[0m\u001b[1;33m\u001b[0m\u001b[1;33m\u001b[0m\u001b[0m\n\u001b[0m\u001b[0;32m     55\u001b[0m \u001b[1;33m\u001b[0m\u001b[0m\n\u001b[0;32m     56\u001b[0m     \u001b[1;32melif\u001b[0m \u001b[0mtype\u001b[0m\u001b[1;33m(\u001b[0m\u001b[0mx\u001b[0m\u001b[1;33m)\u001b[0m \u001b[1;33m==\u001b[0m \u001b[0mcomplex\u001b[0m\u001b[1;33m:\u001b[0m\u001b[1;33m\u001b[0m\u001b[1;33m\u001b[0m\u001b[0m\n",
      "\u001b[1;31mStringArgument\u001b[0m: Could not use string as argument"
     ]
    }
   ],
   "source": [
    "Polynome(\"a\")"
   ]
  },
  {
   "cell_type": "code",
   "execution_count": 10,
   "metadata": {},
   "outputs": [
    {
     "ename": "ComplexArgument",
     "evalue": "Could not use complex number as argument",
     "output_type": "error",
     "traceback": [
      "\u001b[1;31m---------------------------------------------------------------------------\u001b[0m",
      "\u001b[1;31mComplexArgument\u001b[0m                           Traceback (most recent call last)",
      "\u001b[1;32m<ipython-input-10-7e98a6c7def8>\u001b[0m in \u001b[0;36m<module>\u001b[1;34m\u001b[0m\n\u001b[1;32m----> 1\u001b[1;33m \u001b[0mPolynome\u001b[0m\u001b[1;33m(\u001b[0m\u001b[1;36m6j\u001b[0m\u001b[1;33m)\u001b[0m\u001b[1;33m\u001b[0m\u001b[1;33m\u001b[0m\u001b[0m\n\u001b[0m",
      "\u001b[1;32m<ipython-input-7-5221f6a055c1>\u001b[0m in \u001b[0;36mPolynome\u001b[1;34m(x)\u001b[0m\n\u001b[0;32m     55\u001b[0m \u001b[1;33m\u001b[0m\u001b[0m\n\u001b[0;32m     56\u001b[0m     \u001b[1;32melif\u001b[0m \u001b[0mtype\u001b[0m\u001b[1;33m(\u001b[0m\u001b[0mx\u001b[0m\u001b[1;33m)\u001b[0m \u001b[1;33m==\u001b[0m \u001b[0mcomplex\u001b[0m\u001b[1;33m:\u001b[0m\u001b[1;33m\u001b[0m\u001b[1;33m\u001b[0m\u001b[0m\n\u001b[1;32m---> 57\u001b[1;33m         \u001b[1;32mraise\u001b[0m \u001b[0mComplexArgument\u001b[0m\u001b[1;33m(\u001b[0m\u001b[1;34m\"Could not use complex number as argument\"\u001b[0m\u001b[1;33m)\u001b[0m\u001b[1;33m\u001b[0m\u001b[1;33m\u001b[0m\u001b[0m\n\u001b[0m\u001b[0;32m     58\u001b[0m \u001b[1;33m\u001b[0m\u001b[0m\n\u001b[0;32m     59\u001b[0m     \u001b[1;32melif\u001b[0m \u001b[0mx\u001b[0m \u001b[1;33m<\u001b[0m \u001b[1;36m0\u001b[0m\u001b[1;33m:\u001b[0m\u001b[1;33m\u001b[0m\u001b[1;33m\u001b[0m\u001b[0m\n",
      "\u001b[1;31mComplexArgument\u001b[0m: Could not use complex number as argument"
     ]
    }
   ],
   "source": [
    "Polynome(6j)"
   ]
  },
  {
   "cell_type": "code",
   "execution_count": 11,
   "metadata": {},
   "outputs": [
    {
     "ename": "NegativeArgument",
     "evalue": "Could not use negative number as argument",
     "output_type": "error",
     "traceback": [
      "\u001b[1;31m---------------------------------------------------------------------------\u001b[0m",
      "\u001b[1;31mNegativeArgument\u001b[0m                          Traceback (most recent call last)",
      "\u001b[1;32m<ipython-input-11-a1cf780c98e2>\u001b[0m in \u001b[0;36m<module>\u001b[1;34m\u001b[0m\n\u001b[1;32m----> 1\u001b[1;33m \u001b[0mPolynome\u001b[0m\u001b[1;33m(\u001b[0m\u001b[1;33m-\u001b[0m\u001b[1;36m10\u001b[0m\u001b[1;33m)\u001b[0m\u001b[1;33m\u001b[0m\u001b[1;33m\u001b[0m\u001b[0m\n\u001b[0m",
      "\u001b[1;32m<ipython-input-7-5221f6a055c1>\u001b[0m in \u001b[0;36mPolynome\u001b[1;34m(x)\u001b[0m\n\u001b[0;32m     58\u001b[0m \u001b[1;33m\u001b[0m\u001b[0m\n\u001b[0;32m     59\u001b[0m     \u001b[1;32melif\u001b[0m \u001b[0mx\u001b[0m \u001b[1;33m<\u001b[0m \u001b[1;36m0\u001b[0m\u001b[1;33m:\u001b[0m\u001b[1;33m\u001b[0m\u001b[1;33m\u001b[0m\u001b[0m\n\u001b[1;32m---> 60\u001b[1;33m         \u001b[1;32mraise\u001b[0m \u001b[0mNegativeArgument\u001b[0m\u001b[1;33m(\u001b[0m\u001b[1;34m\"Could not use negative number as argument\"\u001b[0m\u001b[1;33m)\u001b[0m\u001b[1;33m\u001b[0m\u001b[1;33m\u001b[0m\u001b[0m\n\u001b[0m\u001b[0;32m     61\u001b[0m \u001b[1;33m\u001b[0m\u001b[0m\n\u001b[0;32m     62\u001b[0m     \u001b[1;32melif\u001b[0m \u001b[0mx\u001b[0m \u001b[1;33m>\u001b[0m \u001b[1;36m1e10\u001b[0m\u001b[1;33m:\u001b[0m\u001b[1;33m\u001b[0m\u001b[1;33m\u001b[0m\u001b[0m\n",
      "\u001b[1;31mNegativeArgument\u001b[0m: Could not use negative number as argument"
     ]
    }
   ],
   "source": [
    "Polynome(-10)"
   ]
  },
  {
   "cell_type": "code",
   "execution_count": 12,
   "metadata": {},
   "outputs": [
    {
     "ename": "BigArgument",
     "evalue": "Could not use big number as argument",
     "output_type": "error",
     "traceback": [
      "\u001b[1;31m---------------------------------------------------------------------------\u001b[0m",
      "\u001b[1;31mBigArgument\u001b[0m                               Traceback (most recent call last)",
      "\u001b[1;32m<ipython-input-12-3f845ca300d4>\u001b[0m in \u001b[0;36m<module>\u001b[1;34m\u001b[0m\n\u001b[1;32m----> 1\u001b[1;33m \u001b[0mPolynome\u001b[0m\u001b[1;33m(\u001b[0m\u001b[1;36m12345678910\u001b[0m\u001b[1;33m)\u001b[0m\u001b[1;33m\u001b[0m\u001b[1;33m\u001b[0m\u001b[0m\n\u001b[0m",
      "\u001b[1;32m<ipython-input-7-5221f6a055c1>\u001b[0m in \u001b[0;36mPolynome\u001b[1;34m(x)\u001b[0m\n\u001b[0;32m     61\u001b[0m \u001b[1;33m\u001b[0m\u001b[0m\n\u001b[0;32m     62\u001b[0m     \u001b[1;32melif\u001b[0m \u001b[0mx\u001b[0m \u001b[1;33m>\u001b[0m \u001b[1;36m1e10\u001b[0m\u001b[1;33m:\u001b[0m\u001b[1;33m\u001b[0m\u001b[1;33m\u001b[0m\u001b[0m\n\u001b[1;32m---> 63\u001b[1;33m         \u001b[1;32mraise\u001b[0m \u001b[0mBigArgument\u001b[0m\u001b[1;33m(\u001b[0m\u001b[1;34m\"Could not use big number as argument\"\u001b[0m\u001b[1;33m)\u001b[0m\u001b[1;33m\u001b[0m\u001b[1;33m\u001b[0m\u001b[0m\n\u001b[0m\u001b[0;32m     64\u001b[0m \u001b[1;33m\u001b[0m\u001b[0m\n\u001b[0;32m     65\u001b[0m     \u001b[1;32melif\u001b[0m \u001b[0mx\u001b[0m \u001b[1;33m<\u001b[0m \u001b[1;36m1e-10\u001b[0m\u001b[1;33m:\u001b[0m\u001b[1;33m\u001b[0m\u001b[1;33m\u001b[0m\u001b[0m\n",
      "\u001b[1;31mBigArgument\u001b[0m: Could not use big number as argument"
     ]
    }
   ],
   "source": [
    "Polynome(12345678910)"
   ]
  },
  {
   "cell_type": "code",
   "execution_count": 13,
   "metadata": {},
   "outputs": [
    {
     "ename": "SmallArgument",
     "evalue": "Could not use small number as argument",
     "output_type": "error",
     "traceback": [
      "\u001b[1;31m---------------------------------------------------------------------------\u001b[0m",
      "\u001b[1;31mSmallArgument\u001b[0m                             Traceback (most recent call last)",
      "\u001b[1;32m<ipython-input-13-43e2eaa89be8>\u001b[0m in \u001b[0;36m<module>\u001b[1;34m\u001b[0m\n\u001b[1;32m----> 1\u001b[1;33m \u001b[0mPolynome\u001b[0m\u001b[1;33m(\u001b[0m\u001b[1;36m0.00000000001\u001b[0m\u001b[1;33m)\u001b[0m\u001b[1;33m\u001b[0m\u001b[1;33m\u001b[0m\u001b[0m\n\u001b[0m",
      "\u001b[1;32m<ipython-input-7-5221f6a055c1>\u001b[0m in \u001b[0;36mPolynome\u001b[1;34m(x)\u001b[0m\n\u001b[0;32m     64\u001b[0m \u001b[1;33m\u001b[0m\u001b[0m\n\u001b[0;32m     65\u001b[0m     \u001b[1;32melif\u001b[0m \u001b[0mx\u001b[0m \u001b[1;33m<\u001b[0m \u001b[1;36m1e-10\u001b[0m\u001b[1;33m:\u001b[0m\u001b[1;33m\u001b[0m\u001b[1;33m\u001b[0m\u001b[0m\n\u001b[1;32m---> 66\u001b[1;33m         \u001b[1;32mraise\u001b[0m \u001b[0mSmallArgument\u001b[0m\u001b[1;33m(\u001b[0m\u001b[1;34m\"Could not use small number as argument\"\u001b[0m\u001b[1;33m)\u001b[0m\u001b[1;33m\u001b[0m\u001b[1;33m\u001b[0m\u001b[0m\n\u001b[0m\u001b[0;32m     67\u001b[0m \u001b[1;33m\u001b[0m\u001b[0m\n\u001b[0;32m     68\u001b[0m     \u001b[1;32melse\u001b[0m\u001b[1;33m:\u001b[0m\u001b[1;33m\u001b[0m\u001b[1;33m\u001b[0m\u001b[0m\n",
      "\u001b[1;31mSmallArgument\u001b[0m: Could not use small number as argument"
     ]
    }
   ],
   "source": [
    "Polynome(0.00000000001)"
   ]
  }
 ],
 "metadata": {
  "kernelspec": {
   "display_name": "Python 3",
   "language": "python",
   "name": "python3"
  },
  "language_info": {
   "codemirror_mode": {
    "name": "ipython",
    "version": 3
   },
   "file_extension": ".py",
   "mimetype": "text/x-python",
   "name": "python",
   "nbconvert_exporter": "python",
   "pygments_lexer": "ipython3",
   "version": "3.7.4"
  }
 },
 "nbformat": 4,
 "nbformat_minor": 2
}
